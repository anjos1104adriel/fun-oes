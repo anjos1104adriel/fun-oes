{
  "nbformat": 4,
  "nbformat_minor": 0,
  "metadata": {
    "colab": {
      "provenance": [],
      "authorship_tag": "ABX9TyNJrddEq1A0p4f7qzuoaFM0",
      "include_colab_link": true
    },
    "kernelspec": {
      "name": "python3",
      "display_name": "Python 3"
    },
    "language_info": {
      "name": "python"
    }
  },
  "cells": [
    {
      "cell_type": "markdown",
      "metadata": {
        "id": "view-in-github",
        "colab_type": "text"
      },
      "source": [
        "<a href=\"https://colab.research.google.com/github/anjos1104adriel/fun-oes/blob/main/listas.ipynb\" target=\"_parent\"><img src=\"https://colab.research.google.com/assets/colab-badge.svg\" alt=\"Open In Colab\"/></a>"
      ]
    },
    {
      "cell_type": "code",
      "execution_count": 1,
      "metadata": {
        "colab": {
          "base_uri": "https://localhost:8080/"
        },
        "id": "vghnbp5hs4PO",
        "outputId": "320db79e-2c32-4582-eccb-860aa9451b22"
      },
      "outputs": [
        {
          "output_type": "stream",
          "name": "stdout",
          "text": [
            "adriel\n"
          ]
        }
      ],
      "source": [
        "nome = 'adriel'\n",
        "print(nome)\n"
      ]
    },
    {
      "cell_type": "code",
      "source": [
        "nota1 = 8\n",
        "nota2 = 5\n",
        "media = (nota1 + nota2)/2\n",
        "print(media)"
      ],
      "metadata": {
        "colab": {
          "base_uri": "https://localhost:8080/"
        },
        "id": "c_FNVIa5tIDB",
        "outputId": "e7bd2257-73c7-4e72-9e1f-2537cf97e33a"
      },
      "execution_count": 2,
      "outputs": [
        {
          "output_type": "stream",
          "name": "stdout",
          "text": [
            "6.5\n"
          ]
        }
      ]
    },
    {
      "cell_type": "code",
      "source": [
        "nota1 = float(input('dijite a nota 1 '))\n",
        "nota2 = float(input('dijite a nota 2 '))\n",
        "media = (nota1 + nota2)/2\n",
        "print(media)\n"
      ],
      "metadata": {
        "colab": {
          "base_uri": "https://localhost:8080/"
        },
        "id": "214w7zc8tdiZ",
        "outputId": "6a12e483-3376-4128-be04-337dff5d57c5"
      },
      "execution_count": 4,
      "outputs": [
        {
          "output_type": "stream",
          "name": "stdout",
          "text": [
            "dijite a nota 1 1\n",
            "dijite a nota 2 98\n",
            "49.5\n"
          ]
        }
      ]
    },
    {
      "cell_type": "code",
      "source": [
        "frutas = ['maçã', 'banana', 'pera']\n",
        "numeros = [1, 9, 4, 6, 8,]\n",
        "\n",
        "mista = [1, 'ola', True, 3, 46.7]\n",
        "\n",
        "print(frutas)\n",
        "print(numeros)\n",
        "print(mista)"
      ],
      "metadata": {
        "colab": {
          "base_uri": "https://localhost:8080/"
        },
        "id": "hLv46tIDuFIS",
        "outputId": "969645c5-ce69-47b3-fe5c-90f49deb2f03"
      },
      "execution_count": 9,
      "outputs": [
        {
          "output_type": "stream",
          "name": "stdout",
          "text": [
            "['maçã', 'banana', 'pera']\n",
            "[1, 9, 4, 6, 8]\n",
            "[1, 'ola', True, 3, 46.7]\n"
          ]
        }
      ]
    },
    {
      "cell_type": "code",
      "source": [
        "#acessar alementos\n",
        "\n",
        "lista = [5, 3, 7, 87, 3, 7]\n",
        "\n",
        "print(lista[0])\n",
        "print(lista[3])\n",
        "\n",
        "print(lista[-1])\n",
        "print(lista[-2])\n"
      ],
      "metadata": {
        "colab": {
          "base_uri": "https://localhost:8080/"
        },
        "id": "vmHTpFsLvZwk",
        "outputId": "c3ecc0bb-d358-461c-8ca9-c2bead48ecaa"
      },
      "execution_count": 10,
      "outputs": [
        {
          "output_type": "stream",
          "name": "stdout",
          "text": [
            "5\n",
            "87\n",
            "7\n",
            "3\n"
          ]
        }
      ]
    },
    {
      "cell_type": "code",
      "source": [
        "# modificar elementos da lista\n",
        "\n",
        "lista[2] = 250\n",
        "\n",
        "print(lista)"
      ],
      "metadata": {
        "colab": {
          "base_uri": "https://localhost:8080/"
        },
        "id": "_iROGfdzwBlE",
        "outputId": "b3986c98-7871-4e65-80ac-8cdf5e535a2e"
      },
      "execution_count": 11,
      "outputs": [
        {
          "output_type": "stream",
          "name": "stdout",
          "text": [
            "[5, 3, 250, 87, 3, 7]\n"
          ]
        }
      ]
    },
    {
      "cell_type": "code",
      "source": [
        "# adicionar elementos\n",
        "\n",
        "lista = [1, 2,]\n",
        "\n",
        "lista.append(3)\n",
        "print(lista)\n",
        "\n",
        "#insert() inserir em uma posição especifica\n",
        "lista.insert(1, 9)\n",
        "\n",
        "print(lista)"
      ],
      "metadata": {
        "colab": {
          "base_uri": "https://localhost:8080/"
        },
        "id": "18pR-1Hgw3pr",
        "outputId": "8453ba28-18e6-4f2f-b7df-0e60429076a0"
      },
      "execution_count": 14,
      "outputs": [
        {
          "output_type": "stream",
          "name": "stdout",
          "text": [
            "[1, 2, 3]\n",
            "[1, 9, 2, 3]\n"
          ]
        }
      ]
    },
    {
      "cell_type": "code",
      "source": [
        "#remover elementos\n",
        "\n",
        "nomes = ['ander', 'ana', 'jose', 'lucas', 'ze']\n",
        "\n",
        "#pelo valor\n",
        "\n",
        "nomes.remove('lucas')\n",
        "print(nomes)\n",
        "#pelo indice\n",
        "nomes.pop(0)\n",
        "print(nomes)\n",
        "nomes.pop()\n",
        "print(nomes)"
      ],
      "metadata": {
        "colab": {
          "base_uri": "https://localhost:8080/"
        },
        "id": "nyrJ0mMryJMy",
        "outputId": "40bd7b17-44ca-4238-a040-c732dd6a4929"
      },
      "execution_count": 18,
      "outputs": [
        {
          "output_type": "stream",
          "name": "stdout",
          "text": [
            "['ander', 'ana', 'jose', 'ze']\n",
            "['ana', 'jose', 'ze']\n",
            "['ana', 'jose']\n"
          ]
        }
      ]
    },
    {
      "cell_type": "code",
      "source": [
        "#fatiamento\n",
        "lista = [0, 1, 2, 3, 4, 5, 6, 7, 8, 9]\n",
        "#sintaxe: lista [inicio:fim:passo]\n",
        "print(lista[:5])\n",
        "print(lista[6:])\n",
        "print(lista[3:9])\n",
        "print(lista[::2])\n",
        "print(lista[::-1])"
      ],
      "metadata": {
        "colab": {
          "base_uri": "https://localhost:8080/"
        },
        "id": "S6u4Ef-tz4Q7",
        "outputId": "8a69e412-9eeb-4b2d-ae44-72b87ef46493"
      },
      "execution_count": 23,
      "outputs": [
        {
          "output_type": "stream",
          "name": "stdout",
          "text": [
            "[0, 1, 2, 3, 4]\n",
            "[6, 7, 8, 9]\n",
            "[3, 4, 5, 6, 7, 8]\n",
            "[0, 2, 4, 6, 8]\n",
            "[9, 8, 7, 6, 5, 4, 3, 2, 1, 0]\n"
          ]
        }
      ]
    },
    {
      "cell_type": "code",
      "source": [
        "#funções uteis\n",
        "\n",
        "lista = [4, 7, 6, 11, 2, 0]\n",
        "\n",
        "#tamanho da lista\n",
        "print(len(lista))\n",
        "\n",
        "#maior e menor valor da lista\n",
        "print(max(lista))\n",
        "print(min(lista))\n",
        "\n",
        "#soma dos elementos\n",
        "print(sum(lista))\n",
        "\n",
        "#ordenação\n",
        "print(sorted(lista))\n",
        "print(lista)\n",
        "\n",
        "#alterar a ordenação da lista original\n",
        "\n",
        "lista.sort()\n",
        "print(lista)"
      ],
      "metadata": {
        "colab": {
          "base_uri": "https://localhost:8080/"
        },
        "id": "D4Xvaldn2JHQ",
        "outputId": "485f18de-fa12-4a4e-ea91-2cb0686c5fd5"
      },
      "execution_count": 31,
      "outputs": [
        {
          "output_type": "stream",
          "name": "stdout",
          "text": [
            "6\n",
            "11\n",
            "0\n",
            "30\n",
            "[0, 2, 4, 6, 7, 11]\n",
            "[4, 7, 6, 11, 2, 0]\n",
            "[0, 2, 4, 6, 7, 11]\n"
          ]
        }
      ]
    },
    {
      "cell_type": "code",
      "source": [
        "#laços em lista\n",
        "\n",
        "compras = ['ovo', 'pão', 'café', 'laranja', 'chà']\n",
        "\n",
        "\n",
        "for item in compras:\n",
        "  print(item)\n",
        "\n",
        "for indice, item in  enumerate(compras):\n",
        "    print(f'produto {indice}: {item}')"
      ],
      "metadata": {
        "colab": {
          "base_uri": "https://localhost:8080/"
        },
        "id": "tiACyen61DFV",
        "outputId": "8a627326-42df-4d67-8d62-143796a08d43"
      },
      "execution_count": 34,
      "outputs": [
        {
          "output_type": "stream",
          "name": "stdout",
          "text": [
            "ovo\n",
            "pão\n",
            "café\n",
            "laranja\n",
            "chà\n",
            "produto 0: ovo\n",
            "produto 1: pão\n",
            "produto 2: café\n",
            "produto 3: laranja\n",
            "produto 4: chà\n"
          ]
        }
      ]
    },
    {
      "cell_type": "code",
      "source": [
        "#filtar elementos CON FOR\n",
        "\n",
        "for item in compras:\n",
        "  cont = 0\n",
        "  if 'a' in item:\n",
        "    print(f'{item} contém a letra a')\n",
        "    cont +=1\n",
        "    print(cont)\n"
      ],
      "metadata": {
        "id": "q9rr208r7OV3"
      },
      "execution_count": 37,
      "outputs": []
    },
    {
      "cell_type": "code",
      "source": [],
      "metadata": {
        "id": "oPpoCwSl9i_d"
      },
      "execution_count": null,
      "outputs": []
    },
    {
      "cell_type": "markdown",
      "source": [
        "strings\n"
      ],
      "metadata": {
        "id": "m3hakQtZ9yx0"
      }
    },
    {
      "cell_type": "code",
      "source": [
        "#concatenação\n",
        "\n",
        "nome = 'adriel'\n",
        "sobrenome = 'anjos'\n",
        "\n",
        "print(nome, sobrenome)\n",
        "print(nome+sobrenome)\n",
        "print(f'{nome} {sobrenome}')"
      ],
      "metadata": {
        "colab": {
          "base_uri": "https://localhost:8080/"
        },
        "id": "Ld79qJss91X0",
        "outputId": "a66343ce-6eb4-413a-de7e-5e30db02e736"
      },
      "execution_count": 39,
      "outputs": [
        {
          "output_type": "stream",
          "name": "stdout",
          "text": [
            "adriel anjos\n",
            "adrielanjos\n",
            "adriel anjos\n"
          ]
        }
      ]
    },
    {
      "cell_type": "code",
      "source": [
        "#acessar caracteres\n",
        "\n",
        "texto = 'pyton'\n",
        "print(texto[0])\n",
        "\n",
        "for letra in texto:\n",
        "  print(letra)"
      ],
      "metadata": {
        "colab": {
          "base_uri": "https://localhost:8080/"
        },
        "id": "lZUDuzE7-f0w",
        "outputId": "25c465e3-9bd1-4c56-eb4f-08d70180ab89"
      },
      "execution_count": 40,
      "outputs": [
        {
          "output_type": "stream",
          "name": "stdout",
          "text": [
            "p\n",
            "p\n",
            "y\n",
            "t\n",
            "o\n",
            "n\n"
          ]
        }
      ]
    },
    {
      "cell_type": "code",
      "source": [
        "#Fatiamento de string (slicing)\n",
        "\n",
        "texyo = '  programação  '\n",
        "print(texto[2:5])\n",
        "print(texto[4:])\n",
        "print(texto[::2])\n"
      ],
      "metadata": {
        "colab": {
          "base_uri": "https://localhost:8080/"
        },
        "id": "zNOK3zgX_cc6",
        "outputId": "aede2d8e-a2d0-455c-a775-cf00a32b4514"
      },
      "execution_count": 41,
      "outputs": [
        {
          "output_type": "stream",
          "name": "stdout",
          "text": [
            "ton\n",
            "n\n",
            "ptn\n"
          ]
        }
      ]
    },
    {
      "cell_type": "code",
      "source": [
        "#metodos comons\n",
        "\n",
        "print(texto.strip()) #remover espaços\n",
        "\n",
        "#converter em maiusculas e minusculas\n",
        "print(texto.upper())\n",
        "print(texto.lower())"
      ],
      "metadata": {
        "colab": {
          "base_uri": "https://localhost:8080/"
        },
        "id": "Xde8mfBbAL6U",
        "outputId": "dc47f096-80cc-4147-ee8f-a65eea43cb5c"
      },
      "execution_count": 45,
      "outputs": [
        {
          "output_type": "stream",
          "name": "stdout",
          "text": [
            "pyton\n",
            "PYTON\n",
            "pyton\n"
          ]
        }
      ]
    }
  ]
}